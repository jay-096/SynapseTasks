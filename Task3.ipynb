{
  "nbformat": 4,
  "nbformat_minor": 0,
  "metadata": {
    "colab": {
      "provenance": [],
      "collapsed_sections": []
    },
    "kernelspec": {
      "name": "python3",
      "display_name": "Python 3"
    },
    "language_info": {
      "name": "python"
    }
  },
  "cells": [
    {
      "cell_type": "code",
      "execution_count": null,
      "metadata": {
        "id": "Q_wRK0g6NiIV"
      },
      "outputs": [],
      "source": []
    },
    {
      "cell_type": "markdown",
      "source": [
        "first download any image from google or you can capture it using the camera.\n",
        "but incase of a video, inorder to read 1 image from a video we use cap.read() function.\n",
        "import libraries like opencv and matplotlib inorder for the project to work.\n",
        "after importing, use the read function inorder to read the image and eventually plot it using the plt command.\n",
        "by default, the image plotted would be of BGR colours, inorder to make it colorful, one can use cv2.cvtColor function in which BGR2RGB should be mentioned.\n",
        "now inorder to figure out the expression on the face, we can use the DeepFace Library which automatically detects the emotions in the image and present the results accordingly and thus by this way the classification of images takes place.(here DeepFace.analyze() is the function used.)\n",
        "also to get a frame/rectangle on the images face, one can use the faceCascade Command.\n",
        "also to print which emotion is present in the image, we use puttext() method for inserting text on videos.\n",
        "\n",
        "\n",
        "the main reason behind using this methodology other than anything else is that the problems faced during its operation is minimal and the accuracy and efficiency of the system is quite promising, on the contrary if we use other deep learning libraries then issues like Imbalance, intra-class variation, occlusion, contrast variation, outliers etc may occur and may cause troublesome problems.\n"
      ],
      "metadata": {
        "id": "_y6VgsMpN0T_"
      }
    }
  ]
}