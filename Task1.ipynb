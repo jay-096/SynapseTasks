{
  "nbformat": 4,
  "nbformat_minor": 0,
  "metadata": {
    "colab": {
      "provenance": [],
      "collapsed_sections": []
    },
    "kernelspec": {
      "name": "python3",
      "display_name": "Python 3"
    },
    "language_info": {
      "name": "python"
    }
  },
  "cells": [
    {
      "cell_type": "code",
      "execution_count": null,
      "metadata": {
        "id": "T5thSIa0v0u2"
      },
      "outputs": [],
      "source": []
    },
    {
      "cell_type": "code",
      "source": [
        "modern_family = ['CLaiRe_DunPhY', 'PHiL_dUnpHY', 'GLoRiA_PriTCheTt', 'CaMErOn_TuCKEr','StELLa']"
      ],
      "metadata": {
        "id": "CtYKtngoyOpq"
      },
      "execution_count": 2,
      "outputs": []
    },
    {
      "cell_type": "code",
      "source": [
        "characters=[]\n",
        "indices=[]\n",
        "for i in enumerate(modern_family):\n",
        "    characters.append(i[1])\n",
        "    indices.append(i[0]) \n",
        "indices"
      ],
      "metadata": {
        "colab": {
          "base_uri": "https://localhost:8080/"
        },
        "id": "sGe6b00syq66",
        "outputId": "a0250985-2a63-4fcf-db1a-1ecc1a7773fe"
      },
      "execution_count": 7,
      "outputs": [
        {
          "output_type": "execute_result",
          "data": {
            "text/plain": [
              "[0, 1, 2, 3, 4]"
            ]
          },
          "metadata": {},
          "execution_count": 7
        }
      ]
    },
    {
      "cell_type": "code",
      "source": [
        "characters[3]"
      ],
      "metadata": {
        "colab": {
          "base_uri": "https://localhost:8080/",
          "height": 35
        },
        "id": "wiHvC_iZ0_Rq",
        "outputId": "78efff30-1f5d-4ebb-a6fa-0a6d3c83ee4c"
      },
      "execution_count": 8,
      "outputs": [
        {
          "output_type": "execute_result",
          "data": {
            "text/plain": [
              "'CaMErOn_TuCKEr'"
            ],
            "application/vnd.google.colaboratory.intrinsic+json": {
              "type": "string"
            }
          },
          "metadata": {},
          "execution_count": 8
        }
      ]
    },
    {
      "cell_type": "code",
      "source": [
        "indices[2]"
      ],
      "metadata": {
        "colab": {
          "base_uri": "https://localhost:8080/"
        },
        "id": "B1qZKztCEA1l",
        "outputId": "e87ade26-d698-4190-8007-2e7c198d8f7b"
      },
      "execution_count": 10,
      "outputs": [
        {
          "output_type": "execute_result",
          "data": {
            "text/plain": [
              "2"
            ]
          },
          "metadata": {},
          "execution_count": 10
        }
      ]
    },
    {
      "cell_type": "code",
      "source": [
        "for i in range(len(characters)):\n",
        "        characters[i]=characters[i].lower()\n",
        "        characters[i]=characters[i].replace('_','-')\n",
        "characters"
      ],
      "metadata": {
        "colab": {
          "base_uri": "https://localhost:8080/"
        },
        "id": "2zoLHriqCQIS",
        "outputId": "0533382f-0761-41d6-b06b-51e36800cbf0"
      },
      "execution_count": 12,
      "outputs": [
        {
          "output_type": "execute_result",
          "data": {
            "text/plain": [
              "['claire-dunphy',\n",
              " 'phil-dunphy',\n",
              " 'gloria-pritchett',\n",
              " 'cameron-tucker',\n",
              " 'stella']"
            ]
          },
          "metadata": {},
          "execution_count": 12
        }
      ]
    },
    {
      "cell_type": "code",
      "source": [
        "temp = map(lambda k:len(k),characters)\n",
        "t=list(zip(indices,list(temp)))\n",
        "print(z)\n",
        "for i in range(len(indices)):\n",
        "      indices[i]=sum(t[i])\n",
        "print(list(t))\n",
        "print(indices)"
      ],
      "metadata": {
        "colab": {
          "base_uri": "https://localhost:8080/"
        },
        "id": "auzL1Q9aESH9",
        "outputId": "45724cfb-bfbe-450b-f621-eb90a8c5c720"
      },
      "execution_count": 18,
      "outputs": [
        {
          "output_type": "stream",
          "name": "stdout",
          "text": [
            "[(0, 13), (1, 11), (2, 16), (3, 14), (4, 6)]\n",
            "[(13, 13), (12, 11), (18, 16), (17, 14), (10, 6)]\n",
            "[26, 23, 34, 31, 16]\n"
          ]
        }
      ]
    },
    {
      "cell_type": "code",
      "source": [
        "indices.sort(reverse=True)\n",
        "indices"
      ],
      "metadata": {
        "colab": {
          "base_uri": "https://localhost:8080/"
        },
        "id": "9AzZd_RhFBRy",
        "outputId": "087bcd6f-a74e-4fae-90aa-77c37a05cf61"
      },
      "execution_count": 20,
      "outputs": [
        {
          "output_type": "execute_result",
          "data": {
            "text/plain": [
              "[34, 31, 26, 23, 16]"
            ]
          },
          "metadata": {},
          "execution_count": 20
        }
      ]
    },
    {
      "cell_type": "code",
      "source": [
        "Phew_finally=dict(zip(indices,characters))\n",
        "Phew_finally"
      ],
      "metadata": {
        "colab": {
          "base_uri": "https://localhost:8080/"
        },
        "id": "B94nWYjOF-x_",
        "outputId": "f2d13451-b368-4d47-a383-c4bdac706c2b"
      },
      "execution_count": 21,
      "outputs": [
        {
          "output_type": "execute_result",
          "data": {
            "text/plain": [
              "{34: 'claire-dunphy',\n",
              " 31: 'phil-dunphy',\n",
              " 26: 'gloria-pritchett',\n",
              " 23: 'cameron-tucker',\n",
              " 16: 'stella'}"
            ]
          },
          "metadata": {},
          "execution_count": 21
        }
      ]
    }
  ]
}